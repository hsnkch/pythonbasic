{
  "nbformat": 4,
  "nbformat_minor": 0,
  "metadata": {
    "colab": {
      "provenance": [],
      "include_colab_link": true
    },
    "kernelspec": {
      "name": "python3",
      "display_name": "Python 3"
    },
    "language_info": {
      "name": "python"
    }
  },
  "cells": [
    {
      "cell_type": "markdown",
      "metadata": {
        "id": "view-in-github",
        "colab_type": "text"
      },
      "source": [
        "<a href=\"https://colab.research.google.com/github/hsnkch/pythonbasic/blob/main/PythonDay1.ipynb\" target=\"_parent\"><img src=\"https://colab.research.google.com/assets/colab-badge.svg\" alt=\"Open In Colab\"/></a>"
      ]
    },
    {
      "cell_type": "code",
      "execution_count": null,
      "metadata": {
        "colab": {
          "base_uri": "https://localhost:8080/"
        },
        "id": "9yPjqbCCkVX5",
        "outputId": "ff732b05-d999-44d8-e688-6b0c6ccdbfd7"
      },
      "outputs": [
        {
          "output_type": "stream",
          "name": "stdout",
          "text": [
            "hi\n"
          ]
        }
      ],
      "source": [
        "# 파이썬은 자바와는 달리 자료형 선언을 하지 않아도 알아서 데이터에 맞게 타입을 자동으로 지정한다. \n",
        "\n",
        "a=20\n",
        "\n",
        "b=\"Hello\"\n",
        "\n",
        "a=\"hi\"\n",
        "\n",
        "print(a)"
      ]
    },
    {
      "cell_type": "code",
      "source": [
        "# 정수형 자료형\n",
        "\n",
        "a = 100\n",
        "b = -123\n",
        "c = 0\n",
        "\n"
      ],
      "metadata": {
        "id": "znn4nNZXkuPE"
      },
      "execution_count": null,
      "outputs": []
    },
    {
      "cell_type": "code",
      "source": [
        "# 실수형 자료형\n",
        "\n",
        "a = 3.14\n",
        "b = -5.16\n"
      ],
      "metadata": {
        "id": "n2y_b2FMlJ9G"
      },
      "execution_count": null,
      "outputs": []
    },
    {
      "cell_type": "code",
      "source": [
        "# 숫자형 자료형에서의 연산\n",
        "\n",
        "a = 3\n",
        "b = 4\n",
        "\n",
        "# 코랩에서는 print 를 생략해도 알아서 print() 넣어준다. 마지막 에만 넣어준다.  \n",
        "a + b\n",
        "a - b"
      ],
      "metadata": {
        "colab": {
          "base_uri": "https://localhost:8080/"
        },
        "id": "wFA1LejLqyHU",
        "outputId": "9a601428-d60b-438b-c252-1ad9d96f6de9"
      },
      "execution_count": null,
      "outputs": [
        {
          "output_type": "execute_result",
          "data": {
            "text/plain": [
              "-1"
            ]
          },
          "metadata": {},
          "execution_count": 5
        }
      ]
    },
    {
      "cell_type": "code",
      "source": [
        "a + b\n",
        "a - b\n",
        "\n",
        "print(a+b)\n",
        "print(a-b)\n",
        "\n",
        "# print() 구문을 생략하면 마지막 구문만 출력해주기 때문에 전부 출력하고 싶으면\n",
        "# 각각 print() 구문을 다 적어야 한다. 이것은 파이썬의 특징이 아닌 코랩의 특징이다. \n"
      ],
      "metadata": {
        "colab": {
          "base_uri": "https://localhost:8080/"
        },
        "id": "sUJhcL_srNr9",
        "outputId": "b3d37ec8-6efe-4af4-a963-93c2eb378c6b"
      },
      "execution_count": null,
      "outputs": [
        {
          "output_type": "stream",
          "name": "stdout",
          "text": [
            "7\n",
            "-1\n"
          ]
        }
      ]
    },
    {
      "cell_type": "code",
      "source": [
        "# 나머지 연산자 - 홀수 짝수 배수 확인\n",
        "\n",
        "5 / 2  # 일반적인 나머지 구하기"
      ],
      "metadata": {
        "colab": {
          "base_uri": "https://localhost:8080/"
        },
        "id": "kAHlg-y4rzhs",
        "outputId": "d9976457-08f2-4aac-9bf3-00abb4970a5b"
      },
      "execution_count": null,
      "outputs": [
        {
          "output_type": "execute_result",
          "data": {
            "text/plain": [
              "2.5"
            ]
          },
          "metadata": {},
          "execution_count": 7
        }
      ]
    },
    {
      "cell_type": "code",
      "source": [
        "5 % 2 \n",
        "\n",
        "# 나눈 결과의 몫은 버리고 나머지만 취한다. \n",
        "# 따라서 어떤수를 2로 나눈 나머지가 0이 나오면 짝수 1이 나오면 홀수 "
      ],
      "metadata": {
        "colab": {
          "base_uri": "https://localhost:8080/"
        },
        "id": "3ZPaMrDwsChT",
        "outputId": "28cc4a77-5c2e-4841-8198-264daf70cfed"
      },
      "execution_count": null,
      "outputs": [
        {
          "output_type": "execute_result",
          "data": {
            "text/plain": [
              "1"
            ]
          },
          "metadata": {},
          "execution_count": 8
        }
      ]
    },
    {
      "cell_type": "code",
      "source": [
        "8 % 2\n",
        "# 어떤수 8를 어떤수 2로 나눈 나머지가 0이면 배수이다. "
      ],
      "metadata": {
        "colab": {
          "base_uri": "https://localhost:8080/"
        },
        "id": "z6VnXu3AseFi",
        "outputId": "da635fd4-23e0-4292-c4be-bfadd1dbdeff"
      },
      "execution_count": null,
      "outputs": [
        {
          "output_type": "execute_result",
          "data": {
            "text/plain": [
              "0"
            ]
          },
          "metadata": {},
          "execution_count": 9
        }
      ]
    },
    {
      "cell_type": "code",
      "source": [
        "# 문자열 자료형 - 파이썬에서는 \"\" 와 ''가 완전히 동일하게 사용된다. \n",
        "\n",
        "# 1 큰 따옴표\n",
        "\"Hello World\"\n",
        "\n",
        "# 2 작은 따옴표\n",
        "'Hello World'\n",
        "\n",
        "\n",
        "\n",
        "# 3 3중 따옴표 Doc String\n",
        "\"\"\"Hello World\"\"\"\n",
        "'''Hello World'''"
      ],
      "metadata": {
        "colab": {
          "base_uri": "https://localhost:8080/",
          "height": 35
        },
        "id": "7JsJtX5XvuM_",
        "outputId": "889e3cb4-25c9-48cd-ecc2-bb9b3b182b08"
      },
      "execution_count": null,
      "outputs": [
        {
          "output_type": "execute_result",
          "data": {
            "text/plain": [
              "'Hello World'"
            ],
            "application/vnd.google.colaboratory.intrinsic+json": {
              "type": "string"
            }
          },
          "metadata": {},
          "execution_count": 10
        }
      ]
    },
    {
      "cell_type": "code",
      "source": [
        "# 파이썬에서는 큰따옴표와 작은 따옴표에 전혀 차이가 없지만\n",
        "# 아래의 용도로 분리하여 사용된다. \n",
        "\n",
        "\"Python's\"     # 작은 따옴표 하나를 출력하기 위한 용도\n",
        "'say \"Hello\"'  # 작은 따옴표 안에서 큰 따옴표를 축력하기 위한 용도 "
      ],
      "metadata": {
        "colab": {
          "base_uri": "https://localhost:8080/",
          "height": 35
        },
        "id": "k3UIxYjiwWmz",
        "outputId": "badf4785-1f7e-44e4-abbf-6a22ae0f936b"
      },
      "execution_count": null,
      "outputs": [
        {
          "output_type": "execute_result",
          "data": {
            "text/plain": [
              "'say \"Hello\"'"
            ],
            "application/vnd.google.colaboratory.intrinsic+json": {
              "type": "string"
            }
          },
          "metadata": {},
          "execution_count": 11
        }
      ]
    },
    {
      "cell_type": "code",
      "source": [
        "# \\n 줄바꿈\n",
        "a = \"I love you\\nYou love me?\"\n",
        "print(a)\n",
        "\n",
        "\n",
        "b = \"\"\"I love you\n",
        "You love me?\"\"\"\n",
        "print(b)\n",
        "\n",
        "\n",
        "# 에러 발생\n",
        "# c = \"I love you\n",
        "# You love me \""
      ],
      "metadata": {
        "colab": {
          "base_uri": "https://localhost:8080/"
        },
        "id": "Jjt4UifFxAkz",
        "outputId": "34985cca-150c-4166-adf9-ea469ab1904f"
      },
      "execution_count": null,
      "outputs": [
        {
          "output_type": "stream",
          "name": "stdout",
          "text": [
            "I love you\n",
            "You love me?\n",
            "I love you\n",
            "You love me?\n"
          ]
        }
      ]
    },
    {
      "cell_type": "code",
      "source": [
        "# 문자열 연산\n",
        "\n",
        "# 파이썬에서는 문자열도 연산이 가능하다. 특히 다른 언어에서는 발견하기 어려운 파이썬만의 \n",
        "# 독특한 특징이다. 이런 점들이 바로 파이썬은 우리의 생각을 그대로 반영할수 있다는 파이썬 만의\n",
        "# 장점들이다. \n",
        "\n",
        "a = \"I \"\n",
        "b = \"love \"\n",
        "c = \"you\"\n",
        "\n",
        "print(a+b+c)\n",
        "\n",
        "d = \"love \"\n",
        "print(d*3)\n",
        "\n",
        "e = \"=\"\n",
        "print(e *30)"
      ],
      "metadata": {
        "colab": {
          "base_uri": "https://localhost:8080/"
        },
        "id": "Nwfp1olcyT4D",
        "outputId": "2f664f3d-19d3-49f7-f0a3-b81e551490e6"
      },
      "execution_count": null,
      "outputs": [
        {
          "output_type": "stream",
          "name": "stdout",
          "text": [
            "I love you\n",
            "love love love \n",
            "==============================\n"
          ]
        }
      ]
    },
    {
      "cell_type": "code",
      "source": [
        "\n",
        "# len()\n",
        "\n",
        "print(len(\"i love you\"))  # 빈칸도 글자 취급한다. "
      ],
      "metadata": {
        "colab": {
          "base_uri": "https://localhost:8080/"
        },
        "id": "cih2mTLB0Fr1",
        "outputId": "9bcae8ab-f81f-409c-a2cc-8f6a6e7c34f8"
      },
      "execution_count": null,
      "outputs": [
        {
          "output_type": "execute_result",
          "data": {
            "text/plain": [
              "10"
            ]
          },
          "metadata": {},
          "execution_count": 22
        }
      ]
    },
    {
      "cell_type": "code",
      "source": [
        "# 인덱싱과 슬라이싱 indexing & slicing\n",
        "# 참고로 인덱싱과 슬라이싱은 리스트와 튜플에서도 완전히 동일하게 사용된다. \n",
        "\n",
        "# 인덱싱 - 한 개의 글자 추출\n",
        "a = 'I love You'\n",
        "print(a[0])\n",
        "print(a[9])\n",
        "print(a[-1])  # 마지막 글자 추출은 -1 을 사용한다. \n",
        "print(a[-3])\n",
        "\n",
        "# 슬라이싱 - 여러개의 글자 추출\n",
        "a = 'I love you'\n",
        "print(a[2] + a[3] + a[4] + a[5])\n",
        "print(a[2:6]) # 끝자리를 나타내는 수는 미만을 의미한다. \n",
        "print(a[7:])  # 끝자리를 생략하면 끝까지 출력한다. \n",
        "print(a[:2])  # 시작 자리를 생략하면 처음 즉 0 부터 시작한다. \n",
        "print(a[:])   # 모든 자리 생략하면 처음 부터 끝까지 출력한다. \n",
        "print(a[7:-1])# 슬라이싱에서도 - 표기를 사용한다. 역시 미만으로 사용된다. \n"
      ],
      "metadata": {
        "colab": {
          "base_uri": "https://localhost:8080/"
        },
        "id": "wn9Rwfhl0pAL",
        "outputId": "a75c72c4-6546-4122-9139-f5e1d142b395"
      },
      "execution_count": null,
      "outputs": [
        {
          "output_type": "stream",
          "name": "stdout",
          "text": [
            "I\n",
            "u\n",
            "u\n",
            "Y\n",
            "love\n",
            "love\n",
            "you\n",
            "I \n",
            "I love you\n",
            "yo\n"
          ]
        }
      ]
    },
    {
      "cell_type": "code",
      "source": [
        "# 파이썬에서 출력 방법 총 4가지\n",
        "\n",
        "# 1 문자열 포맷팅 (중요도 하)\n",
        "\n",
        "print(\"I %s you\" % \"love\")\n",
        "print(\"I ate %d apples\" % 5)\n",
        "print(\"I ate %s apples\" % 5)\n",
        "\n",
        "print(\"I %s you, I ate %s apples\" % (\"love\", 5))\n",
        "\n",
        "# 2 format() 포맷 함수 (중요도 하)\n",
        "\n",
        "print(\"I {} you\".format(\"love\"))\n",
        "print(\"I ate {} apples\".format(5))\n",
        "print(\"I ate {} apples\".format(5))\n",
        "\n",
        "print(\"I {} you, I ate {} apples\".format(\"love\", 5))\n"
      ],
      "metadata": {
        "colab": {
          "base_uri": "https://localhost:8080/"
        },
        "id": "QKDeONcT7gJy",
        "outputId": "7050340b-449f-4d9f-d836-ef0fdeff2b94"
      },
      "execution_count": null,
      "outputs": [
        {
          "output_type": "stream",
          "name": "stdout",
          "text": [
            "I love you\n",
            "I ate 5 apples\n",
            "I ate 5 apples\n",
            "I love you, I ate 5 apples\n",
            "I love you\n",
            "I ate 5 apples\n",
            "I ate 5 apples\n",
            "I love you, I ate 5 apples\n"
          ]
        }
      ]
    },
    {
      "cell_type": "code",
      "source": [
        "# 3 f스트링 (중요도 상)\n",
        "\n",
        "a = \"love\"\n",
        "b = 5\n",
        "\n",
        "print(f\"I {a} you\")\n",
        "print(f\"I ate {b} apples\")\n",
        "print(f\"I ate {b} apples\")\n",
        "\n",
        "print(f\"I {a} you, I ate {b} apples\")\n",
        "\n",
        "\n"
      ],
      "metadata": {
        "colab": {
          "base_uri": "https://localhost:8080/"
        },
        "id": "i0jKtyfN9v2y",
        "outputId": "c3e2c395-6132-4392-b36b-fdd19c8e3e06"
      },
      "execution_count": null,
      "outputs": [
        {
          "output_type": "stream",
          "name": "stdout",
          "text": [
            "I love you\n",
            "I ate 5 apples\n",
            "I ate 5 apples\n",
            "I love you, I ate 5 apples\n"
          ]
        }
      ]
    },
    {
      "cell_type": "code",
      "source": [
        "# 4 연산자 사용\n",
        "\n",
        "a = \"love\"\n",
        "b = 5\n",
        "\n",
        "print(\"I \" + a + \" you\")\n",
        "print(\"I ate\" , b , \"apples\")\n",
        "print(\"I ate\" , b , \"apples\")\n",
        "print(\"I \" + a + \" you, I ate\" , b , \"apples\")\n",
        "print(\"I\" , a ,\" you\")\n",
        "print(\"I ate\" , b , \"apples\")\n",
        "print(\"I ate\" , b , \"apples\")\n",
        "print(\"I\" , a , \" you, I ate\" , b , \"apples\")\n"
      ],
      "metadata": {
        "colab": {
          "base_uri": "https://localhost:8080/"
        },
        "id": "xeFLZSU9AGXK",
        "outputId": "7956a81c-924e-44e4-ab47-e476ab0bc0f2"
      },
      "execution_count": null,
      "outputs": [
        {
          "output_type": "stream",
          "name": "stdout",
          "text": [
            "I love you\n",
            "I ate 5 apples\n",
            "I ate 5 apples\n",
            "I love you, I ate 5 apples\n",
            "I love  you\n",
            "I ate 5 apples\n",
            "I ate 5 apples\n",
            "I love  you, I ate 5 apples\n"
          ]
        }
      ]
    },
    {
      "cell_type": "code",
      "source": [
        "# 문자열 관련 자주 사용하는 함수 정리\n",
        "\n",
        "# len 문자열의 갯수 확인\n",
        "\n",
        "print(len(\"i love you\"))  # 빈칸도 글자로 센다. \n",
        "\n"
      ],
      "metadata": {
        "colab": {
          "base_uri": "https://localhost:8080/"
        },
        "id": "tlY37aICAk3b",
        "outputId": "98b9e7b2-06e8-43df-b4ef-1ac63aaf2dc6"
      },
      "execution_count": null,
      "outputs": [
        {
          "output_type": "stream",
          "name": "stdout",
          "text": [
            "10\n"
          ]
        }
      ]
    }
  ]
}